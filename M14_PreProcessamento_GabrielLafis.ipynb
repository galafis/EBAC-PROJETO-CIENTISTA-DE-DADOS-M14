{
 "cells": [
  {
   "cell_type": "code",
   "execution_count": null,
   "id": "661cf26b",
   "metadata": {},
   "outputs": [],
   "source": [
    "import pandas as pd\n",
    "import numpy as np\n",
    "import seaborn as sns\n",
    "import matplotlib.pyplot as plt\n",
    "sns.set_theme(style='whitegrid')\n"
   ]
  },
  {
   "cell_type": "markdown",
   "id": "e54dee70",
   "metadata": {},
   "source": [
    "# 1. Carregamento e ajuste de tipos\n",
    "\n",
    "Carregamos a base, ajustamos tipos numéricos e categóricos, e padronizamos valores binários.\n"
   ]
  },
  {
   "cell_type": "code",
   "execution_count": null,
   "id": "40111aaf",
   "metadata": {},
   "outputs": [],
   "source": [
    "df = pd.read_csv('CHURN_TELECON_MOD08_TAREFA.csv', delimiter=';')\n",
    "num_cols = ['Tempo_como_Cliente', 'Pagamento_Mensal', 'Total_Pago']\n",
    "for col in num_cols:\n",
    "    df[col] = pd.to_numeric(df[col], errors='coerce')\n",
    "bin_cols = ['Casado', 'Dependents', 'PhoneService', 'Servico_Seguranca', 'Suporte_Tecnico', 'StreamingTV', 'Churn']\n",
    "def normaliza_yn(x):\n",
    "    if pd.isna(x): return np.nan\n",
    "    x = str(x).strip().title()\n",
    "    return 'Yes' if x in ['Yes', 'Sim'] else 'No'\n",
    "for col in bin_cols:\n",
    "    df[col] = df[col].apply(normaliza_yn).astype('category')\n",
    "cat_cols = ['Genero', 'Servico_Internet', 'Tipo_Contrato', 'PaymentMethod']\n",
    "for col in cat_cols:\n",
    "    df[col] = df[col].str.strip().astype('category')\n",
    "print(df.dtypes)\n"
   ]
  },
  {
   "cell_type": "markdown",
   "id": "9280d620",
   "metadata": {},
   "source": [
    "# 2A. Percentual de nulos\n",
    "\n",
    "Calculamos o percentual de valores faltantes por coluna para decidir a melhor estratégia de tratamento.\n"
   ]
  },
  {
   "cell_type": "code",
   "execution_count": null,
   "id": "c1fea7d2",
   "metadata": {},
   "outputs": [],
   "source": [
    "na_pct = (df.isna().mean()*100).round(2)\n",
    "print('Percentual de nulos por coluna:')\n",
    "print(na_pct)\n"
   ]
  },
  {
   "cell_type": "markdown",
   "id": "419d08d8",
   "metadata": {},
   "source": [
    "# 2B. Exclusão de linhas sem Churn\n",
    "\n",
    "Como Churn é a variável-alvo, linhas sem esse valor não podem ser usadas para modelagem ou avaliação.\n"
   ]
  },
  {
   "cell_type": "code",
   "execution_count": null,
   "id": "f0c0be2c",
   "metadata": {},
   "outputs": [],
   "source": [
    "rows_before = len(df)\n",
    "df = df[~df['Churn'].isna()].copy()\n",
    "print(f'Removidas {rows_before-len(df)} linhas sem Churn')\n"
   ]
  },
  {
   "cell_type": "markdown",
   "id": "c2143e0e",
   "metadata": {},
   "source": [
    "# 2C. Imputação\n",
    "\n",
    "Imputação dos valores faltantes:\n",
    "- PhoneService: substituído por 'No' (ausência indica não contratação)\n",
    "- Pagamento_Mensal: substituído pela mediana (distribuição assimétrica)\n",
    "- Genero: substituído pela moda (valor mais frequente)\n"
   ]
  },
  {
   "cell_type": "code",
   "execution_count": null,
   "id": "8e78b5ff",
   "metadata": {},
   "outputs": [],
   "source": [
    "df['PhoneService'].fillna('No', inplace=True)\n",
    "df['Pagamento_Mensal'].fillna(df['Pagamento_Mensal'].median(), inplace=True)\n",
    "df['Genero'].fillna(df['Genero'].mode()[0], inplace=True)\n",
    "print('Nulos restantes após imputação:')\n",
    "print(df.isna().sum())\n"
   ]
  },
  {
   "cell_type": "markdown",
   "id": "93908d79",
   "metadata": {},
   "source": [
    "# 3. Correção de valores inconsistentes\n",
    "\n",
    "Padronização de grafias e caixa em colunas categóricas.\n"
   ]
  },
  {
   "cell_type": "code",
   "execution_count": null,
   "id": "8d9aa057",
   "metadata": {},
   "outputs": [],
   "source": [
    "map_genero = {'F':'Female', 'f':'Female', 'Feminino':'Female', 'M':'Male', 'm':'Male', 'Masculino':'Male'}\n",
    "df['Genero'] = df['Genero'].replace(map_genero)\n",
    "df['Servico_Internet'] = df['Servico_Internet'].replace({'dsl':'DSL', 'Dsl':'DSL', 'Fiber Optic':'Fiber optic'})\n",
    "for col in bin_cols + cat_cols:\n",
    "    df[col] = df[col].str.strip()\n",
    "    df[col] = df[col].astype('category')\n",
    "print('Valores únicos de Genero:', df['Genero'].unique())\n",
    "print('Valores únicos de Servico_Internet:', df['Servico_Internet'].unique())\n"
   ]
  },
  {
   "cell_type": "markdown",
   "id": "e21405db",
   "metadata": {},
   "source": [
    "# 4. Padronização dos nomes das colunas\n",
    "\n",
    "Padronização para snake_case.\n"
   ]
  },
  {
   "cell_type": "code",
   "execution_count": null,
   "id": "ba22f8c8",
   "metadata": {},
   "outputs": [],
   "source": [
    "df.rename(columns=lambda c: c.strip().lower().replace(' ', '_'), inplace=True)\n",
    "print('Colunas finais:', df.columns)\n"
   ]
  },
  {
   "cell_type": "markdown",
   "id": "1d277f06",
   "metadata": {},
   "source": [
    "# 5. Gráficos\n",
    "\n",
    "Visualização da distribuição de Pagamento Mensal e frequência de Gênero.\n"
   ]
  },
  {
   "cell_type": "code",
   "execution_count": null,
   "id": "532feedf",
   "metadata": {},
   "outputs": [],
   "source": [
    "plt.figure(figsize=(8,4))\n",
    "sns.histplot(df['Pagamento_Mensal'], bins=30, kde=True, color='royalblue')\n",
    "plt.axvline(df['Pagamento_Mensal'].mean(), color='red', linestyle='--', label='Média')\n",
    "plt.axvline(df['Pagamento_Mensal'].median(), color='green', linestyle='-', label='Mediana')\n",
    "plt.title('Distribuição de Pagamento Mensal')\n",
    "plt.xlabel('Pagamento Mensal (R$)')\n",
    "plt.ylabel('Contagem')\n",
    "plt.legend()\n",
    "plt.tight_layout()\n",
    "plt.show()\n",
    "\n",
    "plt.figure(figsize=(5,3))\n",
    "sns.countplot(x='Genero', data=df, palette='pastel')\n",
    "plt.title('Frequência de Gênero')\n",
    "plt.xlabel('Gênero')\n",
    "plt.ylabel('Contagem')\n",
    "plt.tight_layout()\n",
    "plt.show()\n"
   ]
  },
  {
   "cell_type": "markdown",
   "id": "fe05d93a",
   "metadata": {},
   "source": [
    "# 6. Resultado final\n",
    "\n",
    "Base tratada, sem nulos, tipos corretos e categorias padronizadas.\n"
   ]
  },
  {
   "cell_type": "code",
   "execution_count": null,
   "id": "eac0864b",
   "metadata": {},
   "outputs": [],
   "source": [
    "print('Shape final:', df.shape)\n",
    "print('Total de nulos restantes:', df.isna().sum().sum())\n",
    "df.head()\n"
   ]
  }
 ],
 "metadata": {},
 "nbformat": 4,
 "nbformat_minor": 5
}
